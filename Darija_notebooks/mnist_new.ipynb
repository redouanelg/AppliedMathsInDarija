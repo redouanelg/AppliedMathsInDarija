{
  "nbformat": 4,
  "nbformat_minor": 0,
  "metadata": {
    "colab": {
      "name": "mnist.ipynb",
      "provenance": [],
      "include_colab_link": true
    },
    "kernelspec": {
      "name": "python3",
      "display_name": "Python 3"
    },
    "accelerator": "GPU"
  },
  "cells": [
    {
      "cell_type": "markdown",
      "metadata": {
        "id": "view-in-github",
        "colab_type": "text"
      },
      "source": [
        "<a href=\"https://colab.research.google.com/github/redouanelg/AppliedMathsInDarija/blob/master/Darija_notebooks/mnist_new.ipynb\" target=\"_parent\"><img src=\"https://colab.research.google.com/assets/colab-badge.svg\" alt=\"Open In Colab\"/></a>"
      ]
    },
    {
      "cell_type": "markdown",
      "metadata": {
        "id": "Yaj3zzYxPPgl",
        "colab_type": "text"
      },
      "source": [
        "### <div dir=\"rtl\">هدف دفتر جوبيتير هذا هو تمرين شبكة عصبونية عميقة من نوع Convolutional Neural Network على قاعدة MNIST للارقام المكتوبة بخط اليد</div>\n",
        "\n",
        "\n",
        "<div dir=\"rtl\">\n",
        "\n",
        "الهدف هو ان تصبح الشبكة العصبونية قادرة على التعرف اوتوماتيكيا على الارقام.\n",
        "<br>\n",
        "هذا المثال جد مشهور و يستعمل كثيرا كبداية و تدريب في استعمال الشبكات العصبونية.\n",
        "<br>\n",
        "في المثال اسفله نحصل على شبكة عصبونية قادرة على توقع الرقم المكتوب اوتوماتيكيا بدقة تفوق 99 في المائة \n",
        "<br>\n",
        "  كتب بواسطة رضوان لكنسات، مستوحى من امثلة Keras  \n",
        "</div>\n",
        "\n",
        "https://github.com/keras-team/keras/blob/master/examples/mnist_cnn.py\n"
      ]
    },
    {
      "cell_type": "code",
      "metadata": {
        "id": "zTfPYO76PPgm",
        "colab_type": "code",
        "colab": {}
      },
      "source": [
        "from tensorflow.python import keras\n",
        "from keras.datasets import mnist\n",
        "from keras.models import Sequential\n",
        "from keras.layers import Dense, Dropout, Flatten\n",
        "from keras.layers import Conv2D, MaxPooling2D\n",
        "from keras import backend as K\n",
        "\n",
        "batch_size = 128\n",
        "num_classes = 10\n",
        "epochs = 12"
      ],
      "execution_count": 0,
      "outputs": []
    },
    {
      "cell_type": "markdown",
      "metadata": {
        "id": "D7J47lUxPPgp",
        "colab_type": "text"
      },
      "source": [
        "### <div dir=\"rtl\">:هنا عانوجدو البيانات ديال الارقام المكتوبة باليد اللي عندنا التصنيف ديالها باش نعطيوها للشبكة تتعلم منها</div>\n",
        " \n",
        " <div dir=\"rtl\">60000 مثال ديال التصنيف عانوريوهم للشبكة باش تعلم منهم و عانخليو 10000 ماعانوريوهمش للشبكة باش نجربوها فيهم </div>"
      ]
    },
    {
      "cell_type": "code",
      "metadata": {
        "id": "WxErlD3KPPgq",
        "colab_type": "code",
        "outputId": "51ac2f7d-465f-4870-be16-2c721a088dc0",
        "colab": {
          "base_uri": "https://localhost:8080/",
          "height": 102
        }
      },
      "source": [
        "# input image dimensions\n",
        "img_rows, img_cols = 28, 28\n",
        "\n",
        "# the data, shuffled and split between train and test sets\n",
        "(x_train, y_train), (x_test, y_test) = mnist.load_data()\n",
        "\n",
        "if K.image_data_format() == 'channels_first':\n",
        "    x_train = x_train.reshape(x_train.shape[0], 1, img_rows, img_cols)\n",
        "    x_test = x_test.reshape(x_test.shape[0], 1, img_rows, img_cols)\n",
        "    input_shape = (1, img_rows, img_cols)\n",
        "else:\n",
        "    x_train = x_train.reshape(x_train.shape[0], img_rows, img_cols, 1)\n",
        "    x_test = x_test.reshape(x_test.shape[0], img_rows, img_cols, 1)\n",
        "    input_shape = (img_rows, img_cols, 1)\n",
        "\n",
        "x_train = x_train.astype('float32')\n",
        "x_test = x_test.astype('float32')\n",
        "x_train /= 255\n",
        "x_test /= 255\n",
        "print('x_train shape:', x_train.shape)\n",
        "print(x_train.shape[0], 'train samples')\n",
        "print(x_test.shape[0], 'test samples')\n",
        "\n",
        "# convert class vectors to binary class matrices\n",
        "y_train = keras.utils.to_categorical(y_train, num_classes)\n",
        "y_test = keras.utils.to_categorical(y_test, num_classes)"
      ],
      "execution_count": 11,
      "outputs": [
        {
          "output_type": "stream",
          "text": [
            "Downloading data from https://s3.amazonaws.com/img-datasets/mnist.npz\n",
            "11493376/11490434 [==============================] - 1s 0us/step\n",
            "x_train shape: (60000, 28, 28, 1)\n",
            "60000 train samples\n",
            "10000 test samples\n"
          ],
          "name": "stdout"
        }
      ]
    },
    {
      "cell_type": "markdown",
      "metadata": {
        "id": "qztS3p7EPPgu",
        "colab_type": "text"
      },
      "source": [
        "### <div dir=\"rtl\">الشبكة العصبونية ديالنا اللي عادي نترينيوها باش تولي واعرة فالتعرف على الارقام</div>\n"
      ]
    },
    {
      "cell_type": "code",
      "metadata": {
        "id": "wKy1QTMYPPgu",
        "colab_type": "code",
        "outputId": "9e208659-d244-46e5-90a2-fc2a56f44a1b",
        "colab": {
          "base_uri": "https://localhost:8080/",
          "height": 700
        }
      },
      "source": [
        "model = Sequential()\n",
        "model.add(Conv2D(32, kernel_size=(3, 3),\n",
        "                 activation='relu',\n",
        "                 input_shape=input_shape))\n",
        "model.add(Conv2D(64, (3, 3), activation='relu'))\n",
        "model.add(MaxPooling2D(pool_size=(2, 2)))\n",
        "model.add(Dropout(0.25))\n",
        "model.add(Flatten())\n",
        "model.add(Dense(128, activation='relu'))\n",
        "model.add(Dropout(0.5))\n",
        "model.add(Dense(num_classes, activation='softmax'))\n",
        "\n",
        "model.compile(loss=keras.losses.categorical_crossentropy,\n",
        "              optimizer='adam',\n",
        "              metrics=['accuracy'])\n",
        "\n",
        "model.summary()"
      ],
      "execution_count": 12,
      "outputs": [
        {
          "output_type": "stream",
          "text": [
            "WARNING:tensorflow:From /usr/local/lib/python3.6/dist-packages/keras/backend/tensorflow_backend.py:66: The name tf.get_default_graph is deprecated. Please use tf.compat.v1.get_default_graph instead.\n",
            "\n",
            "WARNING:tensorflow:From /usr/local/lib/python3.6/dist-packages/keras/backend/tensorflow_backend.py:541: The name tf.placeholder is deprecated. Please use tf.compat.v1.placeholder instead.\n",
            "\n",
            "WARNING:tensorflow:From /usr/local/lib/python3.6/dist-packages/keras/backend/tensorflow_backend.py:4432: The name tf.random_uniform is deprecated. Please use tf.random.uniform instead.\n",
            "\n",
            "WARNING:tensorflow:From /usr/local/lib/python3.6/dist-packages/keras/backend/tensorflow_backend.py:4267: The name tf.nn.max_pool is deprecated. Please use tf.nn.max_pool2d instead.\n",
            "\n",
            "WARNING:tensorflow:From /usr/local/lib/python3.6/dist-packages/keras/backend/tensorflow_backend.py:148: The name tf.placeholder_with_default is deprecated. Please use tf.compat.v1.placeholder_with_default instead.\n",
            "\n",
            "WARNING:tensorflow:From /usr/local/lib/python3.6/dist-packages/keras/backend/tensorflow_backend.py:3733: calling dropout (from tensorflow.python.ops.nn_ops) with keep_prob is deprecated and will be removed in a future version.\n",
            "Instructions for updating:\n",
            "Please use `rate` instead of `keep_prob`. Rate should be set to `rate = 1 - keep_prob`.\n",
            "WARNING:tensorflow:From /usr/local/lib/python3.6/dist-packages/keras/optimizers.py:793: The name tf.train.Optimizer is deprecated. Please use tf.compat.v1.train.Optimizer instead.\n",
            "\n",
            "Model: \"sequential_1\"\n",
            "_________________________________________________________________\n",
            "Layer (type)                 Output Shape              Param #   \n",
            "=================================================================\n",
            "conv2d_1 (Conv2D)            (None, 26, 26, 32)        320       \n",
            "_________________________________________________________________\n",
            "conv2d_2 (Conv2D)            (None, 24, 24, 64)        18496     \n",
            "_________________________________________________________________\n",
            "max_pooling2d_1 (MaxPooling2 (None, 12, 12, 64)        0         \n",
            "_________________________________________________________________\n",
            "dropout_1 (Dropout)          (None, 12, 12, 64)        0         \n",
            "_________________________________________________________________\n",
            "flatten_1 (Flatten)          (None, 9216)              0         \n",
            "_________________________________________________________________\n",
            "dense_1 (Dense)              (None, 128)               1179776   \n",
            "_________________________________________________________________\n",
            "dropout_2 (Dropout)          (None, 128)               0         \n",
            "_________________________________________________________________\n",
            "dense_2 (Dense)              (None, 10)                1290      \n",
            "=================================================================\n",
            "Total params: 1,199,882\n",
            "Trainable params: 1,199,882\n",
            "Non-trainable params: 0\n",
            "_________________________________________________________________\n"
          ],
          "name": "stdout"
        }
      ]
    },
    {
      "cell_type": "code",
      "metadata": {
        "id": "O9EthwXARsty",
        "colab_type": "code",
        "outputId": "57162781-eb1a-43da-be39-4282934e903d",
        "colab": {
          "base_uri": "https://localhost:8080/",
          "height": 751
        }
      },
      "source": [
        "model.fit(x_train, y_train,\n",
        "          batch_size=batch_size,\n",
        "          epochs=epochs,\n",
        "          verbose=1,\n",
        "          validation_data=(x_test, y_test))"
      ],
      "execution_count": 13,
      "outputs": [
        {
          "output_type": "stream",
          "text": [
            "WARNING:tensorflow:From /usr/local/lib/python3.6/dist-packages/keras/backend/tensorflow_backend.py:1033: The name tf.assign_add is deprecated. Please use tf.compat.v1.assign_add instead.\n",
            "\n",
            "WARNING:tensorflow:From /usr/local/lib/python3.6/dist-packages/keras/backend/tensorflow_backend.py:1020: The name tf.assign is deprecated. Please use tf.compat.v1.assign instead.\n",
            "\n",
            "WARNING:tensorflow:From /usr/local/lib/python3.6/dist-packages/keras/backend/tensorflow_backend.py:3005: The name tf.Session is deprecated. Please use tf.compat.v1.Session instead.\n",
            "\n",
            "Train on 60000 samples, validate on 10000 samples\n",
            "Epoch 1/12\n",
            "WARNING:tensorflow:From /usr/local/lib/python3.6/dist-packages/keras/backend/tensorflow_backend.py:190: The name tf.get_default_session is deprecated. Please use tf.compat.v1.get_default_session instead.\n",
            "\n",
            "WARNING:tensorflow:From /usr/local/lib/python3.6/dist-packages/keras/backend/tensorflow_backend.py:197: The name tf.ConfigProto is deprecated. Please use tf.compat.v1.ConfigProto instead.\n",
            "\n",
            "WARNING:tensorflow:From /usr/local/lib/python3.6/dist-packages/keras/backend/tensorflow_backend.py:207: The name tf.global_variables is deprecated. Please use tf.compat.v1.global_variables instead.\n",
            "\n",
            "WARNING:tensorflow:From /usr/local/lib/python3.6/dist-packages/keras/backend/tensorflow_backend.py:216: The name tf.is_variable_initialized is deprecated. Please use tf.compat.v1.is_variable_initialized instead.\n",
            "\n",
            "WARNING:tensorflow:From /usr/local/lib/python3.6/dist-packages/keras/backend/tensorflow_backend.py:223: The name tf.variables_initializer is deprecated. Please use tf.compat.v1.variables_initializer instead.\n",
            "\n",
            "60000/60000 [==============================] - 15s 253us/step - loss: 0.2344 - acc: 0.9302 - val_loss: 0.0510 - val_acc: 0.9821\n",
            "Epoch 2/12\n",
            "60000/60000 [==============================] - 8s 135us/step - loss: 0.0840 - acc: 0.9756 - val_loss: 0.0419 - val_acc: 0.9864\n",
            "Epoch 3/12\n",
            "60000/60000 [==============================] - 8s 134us/step - loss: 0.0641 - acc: 0.9802 - val_loss: 0.0317 - val_acc: 0.9895\n",
            "Epoch 4/12\n",
            "60000/60000 [==============================] - 8s 134us/step - loss: 0.0543 - acc: 0.9833 - val_loss: 0.0312 - val_acc: 0.9902\n",
            "Epoch 5/12\n",
            "60000/60000 [==============================] - 8s 135us/step - loss: 0.0463 - acc: 0.9855 - val_loss: 0.0262 - val_acc: 0.9917\n",
            "Epoch 6/12\n",
            "60000/60000 [==============================] - 8s 135us/step - loss: 0.0400 - acc: 0.9872 - val_loss: 0.0290 - val_acc: 0.9914\n",
            "Epoch 7/12\n",
            "60000/60000 [==============================] - 8s 133us/step - loss: 0.0362 - acc: 0.9885 - val_loss: 0.0266 - val_acc: 0.9914\n",
            "Epoch 8/12\n",
            "60000/60000 [==============================] - 8s 135us/step - loss: 0.0294 - acc: 0.9906 - val_loss: 0.0295 - val_acc: 0.9915\n",
            "Epoch 9/12\n",
            "60000/60000 [==============================] - 8s 134us/step - loss: 0.0276 - acc: 0.9910 - val_loss: 0.0282 - val_acc: 0.9915\n",
            "Epoch 10/12\n",
            "60000/60000 [==============================] - 8s 134us/step - loss: 0.0262 - acc: 0.9916 - val_loss: 0.0281 - val_acc: 0.9912\n",
            "Epoch 11/12\n",
            "60000/60000 [==============================] - 8s 134us/step - loss: 0.0239 - acc: 0.9920 - val_loss: 0.0271 - val_acc: 0.9919\n",
            "Epoch 12/12\n",
            "60000/60000 [==============================] - 8s 134us/step - loss: 0.0222 - acc: 0.9925 - val_loss: 0.0275 - val_acc: 0.9925\n"
          ],
          "name": "stdout"
        },
        {
          "output_type": "execute_result",
          "data": {
            "text/plain": [
              "<keras.callbacks.History at 0x7fe2069fcc50>"
            ]
          },
          "metadata": {
            "tags": []
          },
          "execution_count": 13
        }
      ]
    },
    {
      "cell_type": "markdown",
      "metadata": {
        "id": "bx8206YhPPgy",
        "colab_type": "text"
      },
      "source": [
        "### <div dir=\"rtl\">نجربو واش الشبكة ترينات مزيان، عانعطيوها دوك تصاور جداد ماكانوش فهادوك اللي تعلمات منهم</div>"
      ]
    },
    {
      "cell_type": "code",
      "metadata": {
        "id": "Shf988WCRqI_",
        "colab_type": "code",
        "outputId": "e8f5edaa-58c4-417b-c9f2-978ff918bbf9",
        "colab": {
          "base_uri": "https://localhost:8080/",
          "height": 51
        }
      },
      "source": [
        "score = model.evaluate(x_test, y_test, verbose=0)\n",
        "print('Test loss:', score[0])\n",
        "print('Test accuracy:', score[1])"
      ],
      "execution_count": 14,
      "outputs": [
        {
          "output_type": "stream",
          "text": [
            "Test loss: 0.027521175869117998\n",
            "Test accuracy: 0.9925\n"
          ],
          "name": "stdout"
        }
      ]
    },
    {
      "cell_type": "markdown",
      "metadata": {
        "id": "G6I9jzcEaHci",
        "colab_type": "text"
      },
      "source": [
        "داكشي زين، 99.3% كاتعرف تجاوب صحيح"
      ]
    },
    {
      "cell_type": "markdown",
      "metadata": {
        "id": "obxYr8c9Sax7",
        "colab_type": "text"
      },
      "source": [
        "### <div dir=\"rtl\">نضربو طليلة على شي امثلة نشوفو الخوارزمية اش كاتقول</div>"
      ]
    },
    {
      "cell_type": "code",
      "metadata": {
        "id": "YHqji8IdQdux",
        "colab_type": "code",
        "colab": {}
      },
      "source": [
        "from IPython.core.interactiveshell import InteractiveShell\n",
        "InteractiveShell.ast_node_interactivity = \"all\"\n",
        "\n",
        "from matplotlib import pyplot as plt\n",
        "%matplotlib inline\n",
        "import numpy as np"
      ],
      "execution_count": 0,
      "outputs": []
    },
    {
      "cell_type": "code",
      "metadata": {
        "id": "tn334ttmPPgy",
        "colab_type": "code",
        "outputId": "df0b7a52-faee-44ec-e681-849f5684b3bb",
        "colab": {
          "base_uri": "https://localhost:8080/",
          "height": 166
        }
      },
      "source": [
        "randindices=np.random.randint(x_test.shape[0],size=3)\n",
        "plt.figure()\n",
        "plt.subplot(1,3,1)\n",
        "plt.imshow(x_test[randindices[0],:,:,0])\n",
        "plt.subplot(1,3,2)\n",
        "plt.imshow(x_test[randindices[1],:,:,0])\n",
        "plt.subplot(1,3,3)\n",
        "plt.imshow(x_test[randindices[2],:,:,0])"
      ],
      "execution_count": 15,
      "outputs": [
        {
          "output_type": "execute_result",
          "data": {
            "text/plain": [
              "<matplotlib.image.AxesImage at 0x7fe191537908>"
            ]
          },
          "metadata": {
            "tags": []
          },
          "execution_count": 15
        },
        {
          "output_type": "display_data",
          "data": {
            "image/png": "[encoded data removed]",
            "text/plain": [
              "<Figure size 432x288 with 3 Axes>"
            ]
          },
          "metadata": {
            "tags": []
          }
        }
      ]
    },
    {
      "cell_type": "code",
      "metadata": {
        "id": "bQOI_DzvPPg3",
        "colab_type": "code",
        "outputId": "f7f08315-0d55-4237-e6ff-e3935ea37fc1",
        "colab": {
          "base_uri": "https://localhost:8080/",
          "height": 68
        }
      },
      "source": [
        "predictions=model.predict(x_test)\n",
        "print(\"الخوارزمية كاتظن ان الرقم هو  \" + str(np.argmax(predictions[randindices[0],:])) + ' with ' + str(np.max(predictions[randindices[0],:]) * 100) + '% confidence.')\n",
        "print(\"الخوارزمية كاتظن ان الرقم هو \" + str(np.argmax(predictions[randindices[1],:])) + ' with ' + str(np.max(predictions[randindices[1],:]) * 100) + '% confidence.')\n",
        "print(\"الخوارزمية كاتظن ان الرقم هو \" + str(np.argmax(predictions[randindices[2],:])) + ' with ' + str(np.max(predictions[randindices[2],:]) * 100) + '% confidence.')"
      ],
      "execution_count": 16,
      "outputs": [
        {
          "output_type": "stream",
          "text": [
            "الخوارزمية كاتظن ان الرقم هو  9 with 99.99433755874634% confidence.\n",
            "الخوارزمية كاتظن ان الرقم هو 9 with 100.0% confidence.\n",
            "الخوارزمية كاتظن ان الرقم هو 3 with 88.03271055221558% confidence.\n"
          ],
          "name": "stdout"
        }
      ]
    },
    {
      "cell_type": "code",
      "metadata": {
        "id": "K1WZec8tPPg5",
        "colab_type": "code",
        "colab": {}
      },
      "source": [
        ""
      ],
      "execution_count": 0,
      "outputs": []
    }
  ]
}